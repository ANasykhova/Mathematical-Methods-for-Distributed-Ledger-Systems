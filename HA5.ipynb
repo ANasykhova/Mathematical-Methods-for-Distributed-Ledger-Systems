{
 "cells": [
  {
   "cell_type": "code",
   "execution_count": 48,
   "metadata": {},
   "outputs": [
    {
     "name": "stdout",
     "output_type": "stream",
     "text": [
      "Requirement already satisfied: base58 in c:\\users\\nasyk\\appdata\\local\\programs\\python\\python310\\lib\\site-packages (2.1.1)\n"
     ]
    },
    {
     "name": "stderr",
     "output_type": "stream",
     "text": [
      "\n",
      "[notice] A new release of pip is available: 23.3.1 -> 24.0\n",
      "[notice] To update, run: python.exe -m pip install --upgrade pip\n"
     ]
    },
    {
     "name": "stdout",
     "output_type": "stream",
     "text": [
      "Requirement already satisfied: ecdsa in c:\\users\\nasyk\\appdata\\local\\programs\\python\\python310\\lib\\site-packages (0.18.0)\n",
      "Requirement already satisfied: six>=1.9.0 in c:\\users\\nasyk\\appdata\\local\\programs\\python\\python310\\lib\\site-packages (from ecdsa) (1.16.0)\n"
     ]
    },
    {
     "name": "stderr",
     "output_type": "stream",
     "text": [
      "\n",
      "[notice] A new release of pip is available: 23.3.1 -> 24.0\n",
      "[notice] To update, run: python.exe -m pip install --upgrade pip\n"
     ]
    },
    {
     "name": "stdout",
     "output_type": "stream",
     "text": [
      "Collecting prettytable\n",
      "  Downloading prettytable-3.9.0-py3-none-any.whl.metadata (26 kB)\n",
      "Requirement already satisfied: wcwidth in c:\\users\\nasyk\\appdata\\local\\programs\\python\\python310\\lib\\site-packages (from prettytable) (0.2.5)\n",
      "Downloading prettytable-3.9.0-py3-none-any.whl (27 kB)\n",
      "Installing collected packages: prettytable\n",
      "Successfully installed prettytable-3.9.0\n"
     ]
    },
    {
     "name": "stderr",
     "output_type": "stream",
     "text": [
      "\n",
      "[notice] A new release of pip is available: 23.3.1 -> 24.0\n",
      "[notice] To update, run: python.exe -m pip install --upgrade pip\n"
     ]
    }
   ],
   "source": [
    "!pip install base58\n",
    "!pip install ecdsa\n",
    "!pip install prettytable"
   ]
  },
  {
   "cell_type": "code",
   "execution_count": 67,
   "metadata": {},
   "outputs": [
    {
     "name": "stdout",
     "output_type": "stream",
     "text": [
      "Collecting bitcoin\n",
      "  Downloading bitcoin-1.1.42.tar.gz (36 kB)\n",
      "  Installing build dependencies: started\n",
      "  Installing build dependencies: finished with status 'done'\n",
      "  Getting requirements to build wheel: started\n",
      "  Getting requirements to build wheel: finished with status 'done'\n",
      "  Preparing metadata (pyproject.toml): started\n",
      "  Preparing metadata (pyproject.toml): finished with status 'done'\n",
      "Building wheels for collected packages: bitcoin\n",
      "  Building wheel for bitcoin (pyproject.toml): started\n",
      "  Building wheel for bitcoin (pyproject.toml): finished with status 'done'\n",
      "  Created wheel for bitcoin: filename=bitcoin-1.1.42-py3-none-any.whl size=44414 sha256=93eedc681858772e6020ea8302112e250ad5854e2f5a949fc6485bad1c456957\n",
      "  Stored in directory: c:\\users\\nasyk\\appdata\\local\\pip\\cache\\wheels\\a3\\98\\a1\\0d53f5b714680bb5dffc2db778c221b1f5c54bc4a3a779c8c5\n",
      "Successfully built bitcoin\n",
      "Installing collected packages: bitcoin\n",
      "Successfully installed bitcoin-1.1.42\n"
     ]
    },
    {
     "name": "stderr",
     "output_type": "stream",
     "text": [
      "\n",
      "[notice] A new release of pip is available: 23.3.1 -> 24.0\n",
      "[notice] To update, run: python.exe -m pip install --upgrade pip\n"
     ]
    }
   ],
   "source": [
    "!pip install bitcoin"
   ]
  },
  {
   "cell_type": "code",
   "execution_count": 49,
   "metadata": {},
   "outputs": [],
   "source": [
    "import hashlib\n",
    "import base58\n",
    "import binascii\n",
    "import os\n",
    "import ecdsa\n",
    "from ecdsa import SigningKey, SECP256k1\n",
    "from prettytable import PrettyTable"
   ]
  },
  {
   "cell_type": "markdown",
   "metadata": {
    "id": "Nfasgmf--HTp"
   },
   "source": [
    "### Prerequisite"
   ]
  },
  {
   "cell_type": "markdown",
   "metadata": {
    "id": "1VJTzOlT-VVC"
   },
   "source": [
    "1. Generate two testnet addresses: Address_1, Address_2"
   ]
  },
  {
   "cell_type": "markdown",
   "metadata": {},
   "source": [
    "Helping code from seminar notebook"
   ]
  },
  {
   "cell_type": "code",
   "execution_count": 64,
   "metadata": {},
   "outputs": [],
   "source": [
    "def hashing(a):\n",
    "    first_sha256 = hashlib.sha256(a)\n",
    "    ripemd160 = hashlib.new(\"ripemd160\")\n",
    "    ripemd160.update(first_sha256.digest())\n",
    "    return_0 = ripemd160.digest()\n",
    "    return_1 = bytes.fromhex(\"00\") + ripemd160.digest()\n",
    "    return_2 = bytes.fromhex(\"6f\") + ripemd160.digest()\n",
    "    return return_0,return_1, return_2\n",
    "    #return bytes.fromhex(\"34\") + ripemd160.digest()"
   ]
  },
  {
   "cell_type": "code",
   "execution_count": 40,
   "metadata": {},
   "outputs": [],
   "source": [
    "def checksum(b):\n",
    "    checksum_full = hashlib.sha256(hashlib.sha256(b).digest()).digest()\n",
    "    new_checksum = checksum_full[:4]\n",
    "    return b + new_checksum"
   ]
  },
  {
   "cell_type": "code",
   "execution_count": 41,
   "metadata": {},
   "outputs": [],
   "source": [
    "def to_base58(c):\n",
    "    return base58.b58encode(c).decode('utf-8')"
   ]
  },
  {
   "cell_type": "code",
   "execution_count": 42,
   "metadata": {},
   "outputs": [],
   "source": [
    "def compressed_key(d):\n",
    "    a = d.hex()\n",
    "\n",
    "    if a[-1] == '0' or a[-1] == '2' or a[-1] == '4' or a[-1] == '6' or a[-1] == '8' or a[-1] == 'a' or a[-1] == 'c' or a[-1] == 'e':\n",
    "        return bytes.fromhex(\"02\") + d\n",
    "    \n",
    "    else:\n",
    "        return bytes.fromhex(\"03\") + d"
   ]
  },
  {
   "cell_type": "code",
   "execution_count": 43,
   "metadata": {},
   "outputs": [],
   "source": [
    "def generate_address():\n",
    "    \n",
    "    private_key = os.urandom(32).hex()\n",
    "    private_key_from_hex = bytes.fromhex(private_key)\n",
    "\n",
    "    sk = ecdsa.SigningKey.from_string(private_key_from_hex, curve = ecdsa.SECP256k1) \n",
    "    verification_key = sk.verifying_key\n",
    "\n",
    "    x = verification_key.to_string().hex()[:64]\n",
    "    y = verification_key.to_string().hex()[64:]\n",
    "\n",
    "    public_key = bytes.fromhex(\"04\") + verification_key.to_string()\n",
    "\n",
    "    compressed_public_key = compressed_key(verification_key.to_string())\n",
    "    compressed_public_key_hex = compressed_public_key.hex()[:66]\n",
    "\n",
    "    decoded_pubkey, mainnet_pubkey, testnet_pubkey = hashing(public_key)\n",
    "    \n",
    "    checksum_main_pubkey = checksum(mainnet_pubkey)\n",
    "    main_address = to_base58(checksum_main_pubkey)\n",
    "\n",
    "    checksum_test_pubkey = checksum(testnet_pubkey)\n",
    "    test_address = to_base58(checksum_test_pubkey)\n",
    "    \n",
    "    print(f'''\n",
    "________________NEW DATA________________\n",
    "Private Key: {private_key} \n",
    "Public Key: {public_key.hex()} \n",
    "Compressed_Key: {compressed_public_key_hex} \n",
    "MainNet Address: {main_address} \n",
    "Testnet Address: {test_address}\n",
    "    ''')\n",
    "    \n",
    "    return private_key, public_key, compressed_public_key_hex, main_address, test_address"
   ]
  },
  {
   "cell_type": "code",
   "execution_count": 65,
   "metadata": {},
   "outputs": [
    {
     "name": "stdout",
     "output_type": "stream",
     "text": [
      "\n",
      "________________NEW DATA________________\n",
      "Private Key: e9e0825fa7d83dbc2ffd32166c2bf2cb7e77b38d8eab269cc51958e8b91c221e \n",
      "Public Key: 04847f4086cc82a24ec3625e0d295a08aa7c25334af797a396add7c84f6440ada65247424d39cc15dbf4126c6537be7330ca28b66f7a0e1a5eb22fa9c953972a28 \n",
      "Compressed_Key: 02847f4086cc82a24ec3625e0d295a08aa7c25334af797a396add7c84f6440ada6 \n",
      "MainNet Address: 1B4hpYcokLDCyfVR9THVPXjSU9ufifbMPY \n",
      "Testnet Address: mqaf7bhnZMeTkmy2s2FsDSwmL9WNXTdf3R\n",
      "    \n"
     ]
    }
   ],
   "source": [
    "# Address1\n",
    "private_key1, public_key1, compressed_public_key1_hex, main_address1, test_address1 = generate_address()"
   ]
  },
  {
   "cell_type": "code",
   "execution_count": 66,
   "metadata": {},
   "outputs": [
    {
     "name": "stdout",
     "output_type": "stream",
     "text": [
      "\n",
      "________________NEW DATA________________\n",
      "Private Key: e777808d97db3d835b5ada8b9e9a0661dda6e96d0fdb64f02a8e9642603ddc7c \n",
      "Public Key: 04b44be260b27457cd7152c3b13c41046a7af5a21f3c9d99082a7db88a4173410f39990b21b1f905590d5b56a97db0305b0c324372015497b04649ba7439f9ea92 \n",
      "Compressed_Key: 02b44be260b27457cd7152c3b13c41046a7af5a21f3c9d99082a7db88a4173410f \n",
      "MainNet Address: 1BE4yv7hWLnK825pxdWTAvTtyZbnihvmqQ \n",
      "Testnet Address: mqk2GyCgKNDZu8ZSgCUpzqgDqZCVZtzW4R\n",
      "    \n"
     ]
    }
   ],
   "source": [
    "# Address2\n",
    "private_key2, public_key2, compressed_public_key2_hex, main_address2, test_address2 = generate_address()"
   ]
  },
  {
   "cell_type": "markdown",
   "metadata": {
    "id": "ZBOVwsGR-Yf7"
   },
   "source": [
    "2. Using address_1 and address_2 creates a multi-signature address."
   ]
  },
  {
   "cell_type": "code",
   "execution_count": 80,
   "metadata": {},
   "outputs": [],
   "source": [
    "import bitcoin \n",
    "\n",
    "def public_to_test(a):\n",
    "    decoded_address = base58.b58decode(scriptaddress)\n",
    "    address_1 = decoded_address[1:-4]\n",
    "    hex_address = bytes.fromhex(\"C4\") + address_1\n",
    "    checksum_test_multsig = checksum(hex_address)\n",
    "    test_address = to_base58(checksum_test_multsig)\n",
    "    return test_address"
   ]
  },
  {
   "cell_type": "code",
   "execution_count": 81,
   "metadata": {},
   "outputs": [
    {
     "name": "stdout",
     "output_type": "stream",
     "text": [
      "Generating MultiSig Address and Test Address M:N\n",
      "Enter N (Max), for example, 2: 2\n",
      "Enter M (Min), for example, 2: 2\n",
      "Enter 1 of 2 public key, for example, 049ea82ac663a76fb872d4a49674762c3f9e60e25d55f7636d76b03efef3d69e838ab749455d3951aa015ccac729ecd9d656e596686af6204534821699e779534b: 04847f4086cc82a24ec3625e0d295a08aa7c25334af797a396add7c84f6440ada65247424d39cc15dbf4126c6537be7330ca28b66f7a0e1a5eb22fa9c953972a28\n",
      "Enter 2 of 2 public key, for example, 0409aa99ce4e7f6b23faf283b5eaab2f6233ac28cbb34cc083957441c5c760fc7b5da64c0975b9f6f8b14f52e1eee5be5750b5ce226b6690bde6438e51211f9ff2: 04b44be260b27457cd7152c3b13c41046a7af5a21f3c9d99082a7db88a4173410f39990b21b1f905590d5b56a97db0305b0c324372015497b04649ba7439f9ea92\n",
      "MultiSig Address:  3MuuCJgZoYM4CHGjwVzNUhCnGEyN8tkXca\n",
      "MultiSig Testnet Address:  2NDU7G3cbQzrQQ4uHcdcF6eC3UbBXuBVjZa\n",
      "\n",
      "Redeem Script: 524104847f4086cc82a24ec3625e0d295a08aa7c25334af797a396add7c84f6440ada65247424d39cc15dbf4126c6537be7330ca28b66f7a0e1a5eb22fa9c953972a284104b44be260b27457cd7152c3b13c41046a7af5a21f3c9d99082a7db88a4173410f39990b21b1f905590d5b56a97db0305b0c324372015497b04649ba7439f9ea9252ae\n"
     ]
    }
   ],
   "source": [
    "print(\"Generating MultiSig Address and Test Address M:N\")\n",
    "m = int(input(\"Enter N (Max), for example, 2: \"))\n",
    "n = int(input(\"Enter M (Min), for example, 2: \"))\n",
    "\n",
    "pub_keys = []\n",
    "for i in range(0,m):\n",
    "    if i == 1:\n",
    "        temp = input(\"Enter {} of {} public key, for example, 0409aa99ce4e7f6b23faf283b5eaab2f6233ac28cbb34cc083957441c5c760fc7b5da64c0975b9f6f8b14f52e1eee5be5750b5ce226b6690bde6438e51211f9ff2: \".format(i+1,m))\n",
    "    else:\n",
    "        temp = input(\"Enter {} of {} public key, for example, 049ea82ac663a76fb872d4a49674762c3f9e60e25d55f7636d76b03efef3d69e838ab749455d3951aa015ccac729ecd9d656e596686af6204534821699e779534b: \".format(i+1,m))\n",
    "    pub_keys.append(temp)\n",
    "    \n",
    "rawscript = bitcoin.mk_multisig_script(pub_keys,n)\n",
    "descript = bitcoin.deserialize_script(rawscript)\n",
    "scriptaddress = bitcoin.scriptaddr(rawscript)\n",
    "print(\"MultiSig Address: \", scriptaddress)\n",
    "\n",
    "multisig_testnet_address = public_to_test(scriptaddress)\n",
    "print(\"MultiSig Testnet Address: \", multisig_testnet_address)\n",
    "\n",
    "print(\"\\nRedeem Script:\", rawscript)"
   ]
  },
  {
   "cell_type": "markdown",
   "metadata": {
    "id": "iAWZNTzR-Lzb"
   },
   "source": [
    "### Task 1 (1 point)"
   ]
  },
  {
   "cell_type": "markdown",
   "metadata": {},
   "source": [
    "Provide addresses"
   ]
  },
  {
   "cell_type": "markdown",
   "metadata": {},
   "source": [
    "a. Address_1 and Address_2"
   ]
  },
  {
   "cell_type": "markdown",
   "metadata": {},
   "source": [
    "Testnet Address_1: mqaf7bhnZMeTkmy2s2FsDSwmL9WNXTdf3R"
   ]
  },
  {
   "cell_type": "markdown",
   "metadata": {},
   "source": [
    "Testnet Address_2: mqk2GyCgKNDZu8ZSgCUpzqgDqZCVZtzW4R"
   ]
  },
  {
   "cell_type": "markdown",
   "metadata": {},
   "source": [
    "b. MultiSignature Address and Redeem Script"
   ]
  },
  {
   "cell_type": "markdown",
   "metadata": {},
   "source": [
    "MultiSignature Testnet Address: 2NDU7G3cbQzrQQ4uHcdcF6eC3UbBXuBVjZa"
   ]
  },
  {
   "cell_type": "markdown",
   "metadata": {},
   "source": [
    "Redeem Script: 524104847f4086cc82a24ec3625e0d295a08aa7c25334af797a396add7c84f6440ada65247424d39cc15dbf4126c6537be7330ca28b66f7a0e1a5eb22fa9c953972a284104b44be260b27457cd7152c3b13c41046a7af5a21f3c9d99082a7db88a4173410f39990b21b1f905590d5b56a97db0305b0c324372015497b04649ba7439f9ea9252ae"
   ]
  },
  {
   "cell_type": "markdown",
   "metadata": {
    "id": "wFqiAFYW-aoA"
   },
   "source": [
    "### Task 2 (1 point)"
   ]
  },
  {
   "cell_type": "markdown",
   "metadata": {},
   "source": [
    "Get some testnet Bitcoins to your testnet address_1 from any source.\n",
    "Provide the Transaction_ID."
   ]
  },
  {
   "cell_type": "markdown",
   "metadata": {},
   "source": [
    "(Best source: https://coinfaucet.eu/en/btc-testnet/).\n"
   ]
  },
  {
   "cell_type": "markdown",
   "metadata": {},
   "source": [
    "Address: https://live.blockcypher.com/btc-testnet/address/mqaf7bhnZMeTkmy2s2FsDSwmL9WNXTdf3R/"
   ]
  },
  {
   "cell_type": "markdown",
   "metadata": {},
   "source": [
    "TX: cccbbd5526f1f09ab09b2254e180971730ae79204092d260a79bcc0c658d7d29"
   ]
  },
  {
   "cell_type": "markdown",
   "metadata": {},
   "source": [
    "https://live.blockcypher.com/btc-testnet/tx/cccbbd5526f1f09ab09b2254e180971730ae79204092d260a79bcc0c658d7d29/"
   ]
  },
  {
   "cell_type": "markdown",
   "metadata": {
    "id": "wFqiAFYW-aoA"
   },
   "source": [
    "### Task 3 (3 points)"
   ]
  },
  {
   "cell_type": "markdown",
   "metadata": {},
   "source": [
    "Create a new transaction from address_1 and provide Transaction_ID.\n",
    "Make two outputs:"
   ]
  },
  {
   "cell_type": "markdown",
   "metadata": {},
   "source": [
    "a. Some bitcoins to address_2.\n",
    "\n",
    "b. Some bitcoins to Multi_Signature Address."
   ]
  },
  {
   "cell_type": "markdown",
   "metadata": {},
   "source": [
    "Helping code from seminar notebook"
   ]
  },
  {
   "cell_type": "code",
   "execution_count": 82,
   "metadata": {},
   "outputs": [],
   "source": [
    "class variableInteger():    \n",
    "    def reverse_string_in_pair(a_str_ip):\n",
    "        i = 0\n",
    "        rev_a = []\n",
    "        while i != len(a_str_ip):\n",
    "            #print(a[i] + a[i+1])\n",
    "            temp_value = a_str_ip[i] + a_str_ip[i+1]\n",
    "            rev_a.append(temp_value)\n",
    "            i = i + 2\n",
    "        rev_a.reverse()\n",
    "        return ''.join(rev_a)\n",
    "\n",
    "    def padding(b):\n",
    "        if int(len(b) % 2) == 0:\n",
    "            return b\n",
    "        else:\n",
    "            return '0' + b\n",
    "\n",
    "    def variable_integer(a):\n",
    "        temp = int(len(a)/2)\n",
    "        if temp <= int('0xfc',16):\n",
    "            return hex(temp)[2:]\n",
    "        elif temp > int('0xfc',16) and temp <= int('0xffff',16):\n",
    "            return 'fd' +  reverse_string_in_pair(padding(hex(temp)[2:]))\n",
    "        elif temp > int('0xffff',16) and temp <= int('0xffffffff',16):\n",
    "            return 'fe' + reverse_string_in_pair(padding(hex(temp)[2:]))\n",
    "        elif temp > int('0xffffffff',16) and temp <= int('0xffffffffffffffff',16):\n",
    "            return 'ff' + reverse_string_in_pair(padding(hex(temp)[2:]))"
   ]
  },
  {
   "cell_type": "code",
   "execution_count": 83,
   "metadata": {},
   "outputs": [],
   "source": [
    "def bytewise_reverse(hex_string):\n",
    "    i = 0\n",
    "    reverted_string = []\n",
    "    while i != len(hex_string):\n",
    "        temp_value = hex_string[i] + hex_string[i+1]\n",
    "        reverted_string.append(temp_value)\n",
    "        i = i + 2\n",
    "    reverted_string.reverse()\n",
    "    return ''.join(reverted_string)\n",
    "\n",
    "def decode_raw_transaction(raw_transaction):\n",
    "    print('''\n",
    "===============================\n",
    "Decode raw transaction''')\n",
    "    print(raw_transaction)\n",
    "    print('''\n",
    "================================''')\n",
    "    print('''\n",
    "***Values are in reverse byte format!***''')\n",
    "    version_number_string = raw_transaction[:8]\n",
    "    print(\"Version number, 4 bytes: \", \n",
    "          version_number_string, \n",
    "          \" (\",\n",
    "          int(bytewise_reverse(version_number_string), 16), \n",
    "          \")\")\n",
    "    print(\"Flag (optional), 0 or 2 bytes: Empty\") # only Empty is supported in this function\n",
    "    print('''\n",
    "****************************\n",
    "***Input info starts here***\n",
    "****************************''')\n",
    "    number_of_inputs_string = raw_transaction[8:10]\n",
    "    number_of_inputs = int(number_of_inputs_string, 16)\n",
    "    print(\"Number of inputs, variable length integer 1-9 bytes: \", number_of_inputs_string, \n",
    "          \" (\",\n",
    "          number_of_inputs, \n",
    "          \")\") # only < 0xFD is supported in this function\n",
    "    next_symbol_to_read = 10\n",
    "    for input_index in range(number_of_inputs):\n",
    "        print(\"***Input_\" + str(input_index), \"***\")\n",
    "        print(\"Previous output tx hash, 32 bytes: \", raw_transaction[next_symbol_to_read:next_symbol_to_read + 64],\n",
    "             \" (\",\n",
    "              bytewise_reverse(raw_transaction[next_symbol_to_read:next_symbol_to_read + 64]), \n",
    "              \")\")\n",
    "        next_symbol_to_read = next_symbol_to_read + 64\n",
    "        print(\"Previous tx output index, 4 bytes: \", raw_transaction[next_symbol_to_read:next_symbol_to_read + 8],\n",
    "             \" (\",\n",
    "              int(bytewise_reverse(raw_transaction[next_symbol_to_read:next_symbol_to_read + 8]), 16), \n",
    "              \")\")\n",
    "        next_symbol_to_read = next_symbol_to_read + 8\n",
    "        current_signature_size_string = raw_transaction[next_symbol_to_read:next_symbol_to_read + 2] # only <0xFD is supported\n",
    "        current_signature_size = int(bytewise_reverse(current_signature_size_string), 16)\n",
    "        print(\"Sig script size in bytes, variable length integer 1-9 bytes: \", current_signature_size_string,\n",
    "              \" (\",\n",
    "              current_signature_size,\n",
    "              \")\")\n",
    "        next_symbol_to_read = next_symbol_to_read + 2\n",
    "        sig_script_string = raw_transaction[next_symbol_to_read:next_symbol_to_read + current_signature_size * 2]\n",
    "        print(\"Sig script: \", sig_script_string)\n",
    "        next_symbol_to_read = next_symbol_to_read + current_signature_size * 2\n",
    "        print(\"Sequence number, 4 bytes: ffffffff\")\n",
    "        next_symbol_to_read = next_symbol_to_read + 8\n",
    "    print('''\n",
    "****************************\n",
    "***Output info starts here***\n",
    "****************************''')\n",
    "    number_of_outputs_string = raw_transaction[next_symbol_to_read:next_symbol_to_read + 2]\n",
    "    number_of_outputs = int(number_of_outputs_string, 16)\n",
    "    print(\"Number of outputs, variable length integer 1-9 bytes: \", \n",
    "          number_of_outputs_string, \n",
    "          \" (\",\n",
    "          number_of_outputs, \n",
    "          \")\") # only 1 byte is supported\n",
    "    next_symbol_to_read = next_symbol_to_read + 2\n",
    "    for output_index in range(number_of_outputs):\n",
    "        print(\"***Output_\" + str(output_index), \"***\")\n",
    "        amount_string = raw_transaction[next_symbol_to_read:next_symbol_to_read + 16]\n",
    "        print(\"Amount in satoshi, 8 bytes: \", \n",
    "              amount_string, \n",
    "              \"( \", \n",
    "              int(bytewise_reverse(amount_string), 16), \n",
    "              \" )\")\n",
    "        next_symbol_to_read = next_symbol_to_read + 16\n",
    "        output_script_size_string = raw_transaction[next_symbol_to_read:next_symbol_to_read + 2] # only <0xFD is supported\n",
    "        output_script_size = int(bytewise_reverse(output_script_size_string), 16)\n",
    "        print(\"Output script size in bytes, variable length integer 1-9 bytes: \", output_script_size_string,\n",
    "              \" (\",\n",
    "              output_script_size,\n",
    "              \")\")\n",
    "        next_symbol_to_read = next_symbol_to_read + 2\n",
    "        output_script_string = raw_transaction[next_symbol_to_read:next_symbol_to_read + output_script_size * 2]\n",
    "        print(\"Script hash: \", \n",
    "              output_script_string)\n",
    "        next_symbol_to_read = next_symbol_to_read + output_script_size * 2\n",
    "    print('''\n",
    "****************************''')\n",
    "    locktime_string = raw_transaction[next_symbol_to_read:next_symbol_to_read + 8]\n",
    "    locktime = int(bytewise_reverse(locktime_string), 16)\n",
    "    print(\"Locktime, 4 bytes: \",  locktime_string, \"( \", locktime, \" )\")\n",
    "    next_symbol_to_read = next_symbol_to_read + 8"
   ]
  },
  {
   "cell_type": "code",
   "execution_count": 84,
   "metadata": {},
   "outputs": [],
   "source": [
    "def doublehash256_txid(a): \n",
    "   temp_bin = binascii.unhexlify(a)\n",
    "   temp_hash = hashlib.sha256(temp_bin).digest()\n",
    "   hash2 = hashlib.sha256(temp_hash).digest()\n",
    "   return str(binascii.hexlify(hash2),\"ascii\")\n",
    "\n",
    "def bitcoin_satoshi_rev_hex(btc):\n",
    "    temp = float(btc) * (10**8)\n",
    "    temp_1 = hex(int(temp))[2:]\n",
    "    temp_2 = bytewise_reverse(str(temp_1).zfill(16))\n",
    "    return temp_2\n",
    "\n",
    "def tx_inputs_tx_id():\n",
    "    previous_tx_hash = input(\"Enter Reference TxId: \")\n",
    "    previous_tx_hash_reversed = bytewise_reverse(previous_tx_hash)\n",
    "    previous_output_index = input(\"Enter Previous output index: \")\n",
    "    previous_output_index = bytewise_reverse('{:08x}'.format(int(previous_output_index)))\n",
    "    return previous_tx_hash_reversed + previous_output_index + place_holder() +  'ffffffff'\n",
    "\n",
    "def place_holder():\n",
    "    previous_place_holder = input('''Enter Output Script \n",
    "    OP_HASH160(public_key)=RIPEMD160(SHA256(public_key)): ''')\n",
    "    size_receiver_1 = hex(int(len(previous_place_holder)/2))[2:]\n",
    "    script_Pubkey_prev_op = '76' + 'a9' + size_receiver_1 + previous_place_holder + '88' + 'ac'\n",
    "    script_len_1 = hex(int(len(script_Pubkey_prev_op)/2))[2:]\n",
    "    return script_len_1 + script_Pubkey_prev_op\n",
    "\n",
    "def tx_outputs(c):\n",
    "    receiver = input(\"Enter Receiver's Address {}: \".format(c+1))\n",
    "    if receiver[0] == 'm' or receiver[0] == 'n': \n",
    "        value = input(\"Enter Value in BTC (0.0) to send {}:\".format(receiver))\n",
    "        value_in_hex_NYB = bitcoin_satoshi_rev_hex(value)\n",
    "        receiver_address = base58.b58decode(receiver).hex()[2:-8]\n",
    "        locking_Script = '76' + 'a9' + variableInteger.variable_integer(receiver_address) + receiver_address + '88' + 'ac'\n",
    "        script_len_2 = variableInteger.variable_integer(locking_Script)\n",
    "        return value_in_hex_NYB + script_len_2 + locking_Script\n",
    "    \n",
    "    elif receiver[0] == '2':\n",
    "        value = input(\"Enter Value in BTC (0.0) to send {}:\".format(receiver))\n",
    "        value_in_hex_NYB = bitcoin_satoshi_rev_hex(value)\n",
    "        receiver_address = base58.b58decode(receiver).hex()[2:-8]\n",
    "        locking_Script = 'a9' + variableInteger.variable_integer(receiver_address) + receiver_address + '87'\n",
    "        script_len_2 = variableInteger.variable_integer(locking_Script)\n",
    "        return value_in_hex_NYB + script_len_2 + locking_Script\n",
    "    \n",
    "def generate_raw_transaction(print_output = True):\n",
    "    #Creating Raw Transaction for Double Hash\n",
    "    #P2PKH\n",
    "    version = 1\n",
    "    version = bytewise_reverse('{:08d}'.format(int(version)))\n",
    "\n",
    "    #_________________TALKING PREVIOUS TRANSACTIONS_________________\n",
    "    utxo_ip = '01'\n",
    "    prev_tx_datas = utxo_ip + tx_inputs_tx_id()\n",
    "\n",
    "\n",
    "    #___________________________________________________________________\n",
    "    utxo_output = input(\"Enter number of outputs, for example, 2: \")\n",
    "    tx_output = ''\n",
    "    for i in range(0, int(utxo_output)):\n",
    "            tx_output = tx_outputs(i) + tx_output\n",
    "    next_output_data = '0' + utxo_output + tx_output\n",
    "    #____________________________________________________________________________\n",
    "\n",
    "    locktime = '00000000'\n",
    "    SigHashCode = '01000000'\n",
    "\n",
    "\n",
    "    #Creating Raw transaction:\n",
    "    print(\n",
    "    \"\"\"\n",
    "    Raw_Transaction for 1 input Data and {} Output\n",
    "    \"\"\".format(tx_output))\n",
    "    #Printing Input PreSignature:\n",
    "    \n",
    "    raw_transaction = version + prev_tx_datas + next_output_data + locktime + SigHashCode\n",
    "    if print_output:\n",
    "        print(f'''\n",
    "        Version {version}\n",
    "        Previous data: {prev_tx_datas}\n",
    "        Next output data: {next_output_data} \n",
    "        Locktime: {locktime} \n",
    "        SigHashCode: {SigHashCode}\n",
    "        ''')\n",
    "        print(raw_transaction)\n",
    "    return(raw_transaction)    "
   ]
  },
  {
   "cell_type": "code",
   "execution_count": 85,
   "metadata": {},
   "outputs": [],
   "source": [
    "def sign_raw_transaction(print_output = True):\n",
    "    unsigned = input(\"Enter Raw data Transaction: \")\n",
    "\n",
    "    temp_bin = binascii.unhexlify(unsigned)\n",
    "    temp_hash = hashlib.sha256(temp_bin).digest()\n",
    "    hash2 = hashlib.sha256(temp_hash).hexdigest()\n",
    "    tx_hash = hashlib.sha256(temp_hash).digest()\n",
    "\n",
    "    private_key = input(\"Enter Signing Private Key: \")\n",
    "    signingKey = ecdsa.SigningKey.from_string(bytes.fromhex(private_key), curve=ecdsa.SECP256k1)\n",
    "    SIG = signingKey.sign_digest(tx_hash, sigencode=ecdsa.util.sigencode_der_canonize)\n",
    "    SIG = str(binascii.hexlify(SIG),'ascii')\n",
    "    if print_output:\n",
    "        print(\"\\n\\nSig Script: \", SIG)\n",
    "    return(SIG)"
   ]
  },
  {
   "cell_type": "code",
   "execution_count": 86,
   "metadata": {},
   "outputs": [],
   "source": [
    "# Exploring Signature\n",
    "def decode_digital_signature():\n",
    "    #_______Digital Signature Decoder__________\n",
    "    DER_input =  input(\"Enter Digital Signature, for example, 3045022100cd89b747b9507cb525c5d2d48aa7ebc8941c257621219471dab1e23c6280f99502204823508b23dc61e2868c120f1b90da864902266a3d2ae087720d26e5313d788a: \")\n",
    "    print(\"\\n\")\n",
    "\n",
    "    #Variables:\n",
    "    header = DER_input[0:2]\n",
    "    Sig_Length = DER_input[2:4]\n",
    "    r_integer = DER_input[4:6]\n",
    "    r_length = DER_input[6:8]\n",
    "    r = DER_input[8:8 + 2 * int(r_length,16)]\n",
    "    s_integer = DER_input[8 + 2 * int(r_length,16): 10 + 2 * int(r_length,16)]\n",
    "    s_length = DER_input[10 + 2 * int(r_length,16): 12 + 2 * int(r_length,16)]\n",
    "    s = DER_input[12 + 2 * int(r_length,16):]\n",
    "\n",
    "    print(\"\\033[4mDECODING DIGITAL SIGNATURE\\033[0m\\n\")\n",
    "    x = PrettyTable()\n",
    "    x.field_names = [\"Fields\",\"Value (in Hex)\"]\n",
    "    x.add_row([\"Header\",header])\n",
    "    x.add_row([\"Sig Length\",Sig_Length])\n",
    "    x.add_row([\"Integer\",r_integer])\n",
    "    x.add_row([\"R Length\",r_length])\n",
    "    x.add_row([\"R\",r])\n",
    "    x.add_row([\"Integer\",s_integer])\n",
    "    x.add_row([\"S Length\",s_length])\n",
    "    x.add_row([\"S\",s])\n",
    "    print(x)\n",
    "\n",
    "\n",
    "    #_____DER_SIG_SCRIPT_ENCODER____________\n",
    "    def pushdata(len_r, len_s):\n",
    "        if len_r == '20' and len_s == '20':\n",
    "            return str(47)    \n",
    "        elif len_r == '20' or len_s == '21':\n",
    "            return str(48)\n",
    "        elif len_r == '21' or len_s == '20':\n",
    "            return str(48)\n",
    "        else:\n",
    "            return str(49)\n",
    "\n",
    "    def pubkey_opcode(a):\n",
    "        return hex(int(int(len(a))/2))[2:]\n",
    "\n",
    "\n",
    "\n",
    "    pushdata_opcode = pushdata(r_length, s_length)\n",
    "    sighash_code = '01'\n",
    "\n",
    "    publickey = input(\"Enter Publickey (Compressed or Uncompressed), for example, 049ea82ac663a76fb872d4a49674762c3f9e60e25d55f7636d76b03efef3d69e838ab749455d3951aa015ccac729ecd9d656e596686af6204534821699e779534b: \")\n",
    "    pubkey_pushdata_opcode = pubkey_opcode(publickey)\n",
    "\n",
    "    y = PrettyTable()\n",
    "\n",
    "    print(\"\\033[4mSIG SCRIPT\\033[0m\\n\")\n",
    "    y.field_names = [\"Fields\",\"Value (in Hex)\"]\n",
    "    y.add_row([\"PUSHDATA Opcode\",pushdata_opcode])\n",
    "    y.add_row([\"Header\",header])\n",
    "    y.add_row([\"Sig Length\",Sig_Length])\n",
    "    y.add_row([\"Integer\",r_integer])\n",
    "    y.add_row([\"R Length\",r_length])\n",
    "    y.add_row([\"R\",r])\n",
    "    y.add_row([\"Integer\",s_integer])\n",
    "    y.add_row([\"S Length\",s_length])\n",
    "    y.add_row([\"S\",s])\n",
    "    y.add_row([\"------\",\"------\"])\n",
    "    y.add_row([\"SigHash Code\",sighash_code])\n",
    "    y.add_row([\"PUSHDATA Opcode\",pubkey_pushdata_opcode])\n",
    "    y.add_row([\"Public Key\",publickey])\n",
    "\n",
    "    print(y)\n",
    "\n",
    "    final_SigScript = pushdata_opcode + header + Sig_Length + r_integer + r_length + r + s_integer + s_length + s + sighash_code + pubkey_pushdata_opcode + publickey\n",
    "    z = PrettyTable()\n",
    "    z.field_names = [\"Fields\",\"Value (in Hex)\"]\n",
    "    z.add_row([\"SigScript Lenght\",pushdata_opcode])\n",
    "    z.add_row([\"Final SigScript\",final_SigScript])\n",
    "\n",
    "    print(z)\n",
    "    print(\"\\nSigScript(hex): \",pubkey_opcode(final_SigScript) + final_SigScript,\"\\n\\n\\n\")"
   ]
  },
  {
   "cell_type": "code",
   "execution_count": 89,
   "metadata": {},
   "outputs": [],
   "source": [
    "def hashing(a):\n",
    "    first_sha256 = hashlib.sha256(bytes.fromhex(a))\n",
    "    ripemd160 = hashlib.new(\"ripemd160\")\n",
    "    ripemd160.update(first_sha256.digest())\n",
    "    return_0 = ripemd160.digest()\n",
    "    return return_0.hex()"
   ]
  },
  {
   "cell_type": "code",
   "execution_count": 92,
   "metadata": {},
   "outputs": [
    {
     "name": "stdout",
     "output_type": "stream",
     "text": [
      "Hash_160: 6e6494907268b2df0ad95095fc69b36187022fa6\n"
     ]
    }
   ],
   "source": [
    "print('Hash_160:', hashing(public_key1.hex()))"
   ]
  },
  {
   "cell_type": "code",
   "execution_count": null,
   "metadata": {},
   "outputs": [],
   "source": [
    " "
   ]
  },
  {
   "cell_type": "code",
   "execution_count": 94,
   "metadata": {},
   "outputs": [
    {
     "name": "stdout",
     "output_type": "stream",
     "text": [
      "Enter Reference TxId: cccbbd5526f1f09ab09b2254e180971730ae79204092d260a79bcc0c658d7d29\n",
      "Enter Previous output index: 1\n",
      "Enter Output Script \n",
      "    OP_HASH160(public_key)=RIPEMD160(SHA256(public_key)): 6e6494907268b2df0ad95095fc69b36187022fa6\n",
      "Enter number of outputs, for example, 2: 2\n",
      "Enter Receiver's Address 1: mqk2GyCgKNDZu8ZSgCUpzqgDqZCVZtzW4R\n",
      "Enter Value in BTC (0.0) to send mqk2GyCgKNDZu8ZSgCUpzqgDqZCVZtzW4R:0.00001\n",
      "Enter Receiver's Address 2: 2NDU7G3cbQzrQQ4uHcdcF6eC3UbBXuBVjZa\n",
      "Enter Value in BTC (0.0) to send 2NDU7G3cbQzrQQ4uHcdcF6eC3UbBXuBVjZa:0.00001\n",
      "\n",
      "    Raw_Transaction for 1 input Data and e80300000000000017a914ddd24e8582c1516fd3d2f87a66df7e291136139c87e8030000000000001976a9147029fd1fedb6aebca27172721c45a1588b70d2e588ac Output\n",
      "    \n",
      "\n",
      "        Version 01000000\n",
      "        Previous data: 01297d8d650ccc9ba760d292402079ae30179780e154229bb09af0f12655bdcbcc010000001976a9146e6494907268b2df0ad95095fc69b36187022fa688acffffffff\n",
      "        Next output data: 02e80300000000000017a914ddd24e8582c1516fd3d2f87a66df7e291136139c87e8030000000000001976a9147029fd1fedb6aebca27172721c45a1588b70d2e588ac \n",
      "        Locktime: 00000000 \n",
      "        SigHashCode: 01000000\n",
      "        \n",
      "0100000001297d8d650ccc9ba760d292402079ae30179780e154229bb09af0f12655bdcbcc010000001976a9146e6494907268b2df0ad95095fc69b36187022fa688acffffffff02e80300000000000017a914ddd24e8582c1516fd3d2f87a66df7e291136139c87e8030000000000001976a9147029fd1fedb6aebca27172721c45a1588b70d2e588ac0000000001000000\n"
     ]
    }
   ],
   "source": [
    "raw_transaction = generate_raw_transaction()"
   ]
  },
  {
   "cell_type": "code",
   "execution_count": 95,
   "metadata": {},
   "outputs": [
    {
     "name": "stdout",
     "output_type": "stream",
     "text": [
      "\n",
      "===============================\n",
      "Decode raw transaction\n",
      "0100000001297d8d650ccc9ba760d292402079ae30179780e154229bb09af0f12655bdcbcc010000001976a9146e6494907268b2df0ad95095fc69b36187022fa688acffffffff02e80300000000000017a914ddd24e8582c1516fd3d2f87a66df7e291136139c87e8030000000000001976a9147029fd1fedb6aebca27172721c45a1588b70d2e588ac0000000001000000\n",
      "\n",
      "================================\n",
      "\n",
      "***Values are in reverse byte format!***\n",
      "Version number, 4 bytes:  01000000  ( 1 )\n",
      "Flag (optional), 0 or 2 bytes: Empty\n",
      "\n",
      "****************************\n",
      "***Input info starts here***\n",
      "****************************\n",
      "Number of inputs, variable length integer 1-9 bytes:  01  ( 1 )\n",
      "***Input_0 ***\n",
      "Previous output tx hash, 32 bytes:  297d8d650ccc9ba760d292402079ae30179780e154229bb09af0f12655bdcbcc  ( cccbbd5526f1f09ab09b2254e180971730ae79204092d260a79bcc0c658d7d29 )\n",
      "Previous tx output index, 4 bytes:  01000000  ( 1 )\n",
      "Sig script size in bytes, variable length integer 1-9 bytes:  19  ( 25 )\n",
      "Sig script:  76a9146e6494907268b2df0ad95095fc69b36187022fa688ac\n",
      "Sequence number, 4 bytes: ffffffff\n",
      "\n",
      "****************************\n",
      "***Output info starts here***\n",
      "****************************\n",
      "Number of outputs, variable length integer 1-9 bytes:  02  ( 2 )\n",
      "***Output_0 ***\n",
      "Amount in satoshi, 8 bytes:  e803000000000000 (  1000  )\n",
      "Output script size in bytes, variable length integer 1-9 bytes:  17  ( 23 )\n",
      "Script hash:  a914ddd24e8582c1516fd3d2f87a66df7e291136139c87\n",
      "***Output_1 ***\n",
      "Amount in satoshi, 8 bytes:  e803000000000000 (  1000  )\n",
      "Output script size in bytes, variable length integer 1-9 bytes:  19  ( 25 )\n",
      "Script hash:  76a9147029fd1fedb6aebca27172721c45a1588b70d2e588ac\n",
      "\n",
      "****************************\n",
      "Locktime, 4 bytes:  00000000 (  0  )\n"
     ]
    }
   ],
   "source": [
    "decode_raw_transaction(raw_transaction)"
   ]
  },
  {
   "cell_type": "code",
   "execution_count": 96,
   "metadata": {},
   "outputs": [
    {
     "name": "stdout",
     "output_type": "stream",
     "text": [
      "Enter Raw data Transaction: 0100000001297d8d650ccc9ba760d292402079ae30179780e154229bb09af0f12655bdcbcc010000001976a9146e6494907268b2df0ad95095fc69b36187022fa688acffffffff02e80300000000000017a914ddd24e8582c1516fd3d2f87a66df7e291136139c87e8030000000000001976a9147029fd1fedb6aebca27172721c45a1588b70d2e588ac0000000001000000\n",
      "Enter Signing Private Key: e9e0825fa7d83dbc2ffd32166c2bf2cb7e77b38d8eab269cc51958e8b91c221e\n",
      "\n",
      "\n",
      "Sig Script:  30440220396d14556ca75f4c81189276291d16d72593bbc369f2bda8e66712fe8d2f1607022013131fc6d89dc1a47421831116c61533c180fa4f05a1f01e7193c2d43955eef2\n"
     ]
    }
   ],
   "source": [
    "signature = sign_raw_transaction()"
   ]
  },
  {
   "cell_type": "code",
   "execution_count": 97,
   "metadata": {},
   "outputs": [
    {
     "name": "stdout",
     "output_type": "stream",
     "text": [
      "Enter Digital Signature, for example, 3045022100cd89b747b9507cb525c5d2d48aa7ebc8941c257621219471dab1e23c6280f99502204823508b23dc61e2868c120f1b90da864902266a3d2ae087720d26e5313d788a: 30440220396d14556ca75f4c81189276291d16d72593bbc369f2bda8e66712fe8d2f1607022013131fc6d89dc1a47421831116c61533c180fa4f05a1f01e7193c2d43955eef2\n",
      "\n",
      "\n",
      "\u001b[4mDECODING DIGITAL SIGNATURE\u001b[0m\n",
      "\n",
      "+------------+------------------------------------------------------------------+\n",
      "|   Fields   |                          Value (in Hex)                          |\n",
      "+------------+------------------------------------------------------------------+\n",
      "|   Header   |                                30                                |\n",
      "| Sig Length |                                44                                |\n",
      "|  Integer   |                                02                                |\n",
      "|  R Length  |                                20                                |\n",
      "|     R      | 396d14556ca75f4c81189276291d16d72593bbc369f2bda8e66712fe8d2f1607 |\n",
      "|  Integer   |                                02                                |\n",
      "|  S Length  |                                20                                |\n",
      "|     S      | 13131fc6d89dc1a47421831116c61533c180fa4f05a1f01e7193c2d43955eef2 |\n",
      "+------------+------------------------------------------------------------------+\n",
      "Enter Publickey (Compressed or Uncompressed), for example, 049ea82ac663a76fb872d4a49674762c3f9e60e25d55f7636d76b03efef3d69e838ab749455d3951aa015ccac729ecd9d656e596686af6204534821699e779534b: 04847f4086cc82a24ec3625e0d295a08aa7c25334af797a396add7c84f6440ada65247424d39cc15dbf4126c6537be7330ca28b66f7a0e1a5eb22fa9c953972a28\n",
      "\u001b[4mSIG SCRIPT\u001b[0m\n",
      "\n",
      "+-----------------+------------------------------------------------------------------------------------------------------------------------------------+\n",
      "|      Fields     |                                                           Value (in Hex)                                                           |\n",
      "+-----------------+------------------------------------------------------------------------------------------------------------------------------------+\n",
      "| PUSHDATA Opcode |                                                                 47                                                                 |\n",
      "|      Header     |                                                                 30                                                                 |\n",
      "|    Sig Length   |                                                                 44                                                                 |\n",
      "|     Integer     |                                                                 02                                                                 |\n",
      "|     R Length    |                                                                 20                                                                 |\n",
      "|        R        |                                  396d14556ca75f4c81189276291d16d72593bbc369f2bda8e66712fe8d2f1607                                  |\n",
      "|     Integer     |                                                                 02                                                                 |\n",
      "|     S Length    |                                                                 20                                                                 |\n",
      "|        S        |                                  13131fc6d89dc1a47421831116c61533c180fa4f05a1f01e7193c2d43955eef2                                  |\n",
      "|      ------     |                                                               ------                                                               |\n",
      "|   SigHash Code  |                                                                 01                                                                 |\n",
      "| PUSHDATA Opcode |                                                                 41                                                                 |\n",
      "|    Public Key   | 04847f4086cc82a24ec3625e0d295a08aa7c25334af797a396add7c84f6440ada65247424d39cc15dbf4126c6537be7330ca28b66f7a0e1a5eb22fa9c953972a28 |\n",
      "+-----------------+------------------------------------------------------------------------------------------------------------------------------------+\n",
      "+------------------+--------------------------------------------------------------------------------------------------------------------------------------------------------------------------------------------------------------------------------------------------------------------------------------+\n",
      "|      Fields      |                                                                                                                                    Value (in Hex)                                                                                                                                    |\n",
      "+------------------+--------------------------------------------------------------------------------------------------------------------------------------------------------------------------------------------------------------------------------------------------------------------------------------+\n",
      "| SigScript Lenght |                                                                                                                                          47                                                                                                                                          |\n",
      "| Final SigScript  | 4730440220396d14556ca75f4c81189276291d16d72593bbc369f2bda8e66712fe8d2f1607022013131fc6d89dc1a47421831116c61533c180fa4f05a1f01e7193c2d43955eef2014104847f4086cc82a24ec3625e0d295a08aa7c25334af797a396add7c84f6440ada65247424d39cc15dbf4126c6537be7330ca28b66f7a0e1a5eb22fa9c953972a28 |\n",
      "+------------------+--------------------------------------------------------------------------------------------------------------------------------------------------------------------------------------------------------------------------------------------------------------------------------------+\n",
      "\n",
      "SigScript(hex):  8a4730440220396d14556ca75f4c81189276291d16d72593bbc369f2bda8e66712fe8d2f1607022013131fc6d89dc1a47421831116c61533c180fa4f05a1f01e7193c2d43955eef2014104847f4086cc82a24ec3625e0d295a08aa7c25334af797a396add7c84f6440ada65247424d39cc15dbf4126c6537be7330ca28b66f7a0e1a5eb22fa9c953972a28 \n",
      "\n",
      "\n",
      "\n"
     ]
    }
   ],
   "source": [
    "decode_digital_signature()"
   ]
  },
  {
   "cell_type": "markdown",
   "metadata": {},
   "source": [
    "Raw transaction\n",
    "\n",
    "01000000\n",
    "\n",
    "01\n",
    "\n",
    "297d8d650ccc9ba760d292402079ae30179780e154229bb09af0f12655bdcbcc\n",
    "\n",
    "01000000\n",
    "\n",
    "1976a9146e6494907268b2df0ad95095fc69b36187022fa688ac\n",
    "\n",
    "ffffffff\n",
    "\n",
    "02\n",
    "\n",
    "e803000000000000\n",
    "\n",
    "17a914ddd24e8582c1516fd3d2f87a66df7e291136139c87e8030000000000001976a9147029fd1fedb6aebca27172721c45a1588b70d2e588ac\n",
    "\n",
    "00000000\n",
    "\n",
    "01000000"
   ]
  },
  {
   "cell_type": "markdown",
   "metadata": {},
   "source": [
    "0100000001df32efd09c04b00410d307e0c0b2fb63ec0d298167990540bb13fde01fafb81b010000008a473044022031be4eee90a74b8df11e73890f9a026b279d748e265ffe64d39025bfa0e1ddf102205bed2f7438282a7de0ec9c5e1b6a74267edf1fc9d6cb2e56ead773b9872ac6f8014104ae30407ca07e0b6c6fce928b8ddc3a8963683ca1754db19b582757ed8964bd65c79e9c888f2e61c69fd151dba4b7838fb3e6ed6f09b4ff1ffceec952a72ae73bffffffff012f750000000000001976a91489e3df90a6c6d6ba7a4780d01b4fc2f9e0f8d06b88ac00000000"
   ]
  },
  {
   "cell_type": "markdown",
   "metadata": {},
   "source": [
    "TX: fd3188717654258f8ec3b1a85292fe46e71548936afbd967d5a8b397b60f1092"
   ]
  },
  {
   "cell_type": "markdown",
   "metadata": {},
   "source": [
    "https://live.blockcypher.com/btc-testnet/tx/fd3188717654258f8ec3b1a85292fe46e71548936afbd967d5a8b397b60f1092/"
   ]
  },
  {
   "cell_type": "markdown",
   "metadata": {},
   "source": [
    "### Task 4 (2 points)"
   ]
  },
  {
   "cell_type": "markdown",
   "metadata": {},
   "source": [
    "From Step 3.1, Make a Null Transaction/Data Transfer to self (address_1) with your Lastname FirstName."
   ]
  },
  {
   "cell_type": "code",
   "execution_count": 98,
   "metadata": {},
   "outputs": [],
   "source": [
    "def reverse(a):\n",
    "    i = 0\n",
    "    rev_a = []\n",
    "    while i != len(a):\n",
    "        temp_value = a[i] + a[i+1]\n",
    "        rev_a.append(temp_value)\n",
    "        i = i + 2\n",
    "    rev_a.reverse()\n",
    "    return ''.join(rev_a)"
   ]
  },
  {
   "cell_type": "code",
   "execution_count": 99,
   "metadata": {},
   "outputs": [],
   "source": [
    "def bitcoin_satoshi_rev_hex(btc):\n",
    "    temp = float(btc) * (10**8)\n",
    "    temp_1 = hex(int(temp))[2:]\n",
    "    temp_2 = reverse(str(temp_1).zfill(16))\n",
    "    return temp_2"
   ]
  },
  {
   "cell_type": "code",
   "execution_count": 100,
   "metadata": {},
   "outputs": [],
   "source": [
    "def bytes_padding(temp_no):\n",
    "    if len(temp_no)/2 != 0:\n",
    "        return '0' + temp_no\n",
    "    else:\n",
    "        return temp_no"
   ]
  },
  {
   "cell_type": "code",
   "execution_count": 101,
   "metadata": {},
   "outputs": [],
   "source": [
    "def tx_outputs():\n",
    "    receiver = input(\"Enter Receiver's Address {}, for example, mp7cUPuKFeR3tm7hMF6Y9PZX89iyHMK67E: \".format(1))\n",
    "    value = input(\"Enter Value in BTC (0.0) to send {}, for example, 0.009:\".format(receiver))\n",
    "    value_in_hex_NYB = bitcoin_satoshi_rev_hex(value)\n",
    "    receiver_address = base58.b58decode(receiver).hex()[2:-8]\n",
    "    size_receiver = hex(int(len(receiver_address)/2))[2:]\n",
    "    locking_Script = '76' + 'a9' + size_receiver + receiver_address + '88' + 'ac'\n",
    "    script_len_2 = hex(int(len(locking_Script)/2))[2:]\n",
    "    return value_in_hex_NYB + script_len_2 + locking_Script"
   ]
  },
  {
   "cell_type": "code",
   "execution_count": 102,
   "metadata": {},
   "outputs": [],
   "source": [
    "def op_return():\n",
    "    value_return = '0'*16\n",
    "    #data_1 = b\"charley loves heidi\"\n",
    "    data = input(\"Enter Data to send, for exampe, 'Hello': \")\n",
    "    text_from_bytes = binascii.b2a_hex(data.encode(\"utf-8\")).decode()\n",
    "    len_data = hex(int(len(text_from_bytes)/2))[2:]\n",
    "    partial_data =  '6a'+ bytes_padding(len_data) + text_from_bytes\n",
    "    return value_return + bytes_padding(hex(int(len(partial_data)/2))[2:]) + partial_data"
   ]
  },
  {
   "cell_type": "code",
   "execution_count": 103,
   "metadata": {},
   "outputs": [],
   "source": [
    "def pushdata(len_r,len_s):\n",
    "    if len_r == '20' and len_s == '20':\n",
    "        return str(47)    \n",
    "    elif len_r == '20' or len_s == '21':\n",
    "        return str(48)\n",
    "    elif len_r == '21' or len_s == '20':\n",
    "        return str(48)\n",
    "    else:\n",
    "        return str(49)"
   ]
  },
  {
   "cell_type": "code",
   "execution_count": 104,
   "metadata": {},
   "outputs": [],
   "source": [
    "def pubkey_opcode(a):\n",
    "    return hex(int(int(len(a))/2))[2:]"
   ]
  },
  {
   "cell_type": "code",
   "execution_count": null,
   "metadata": {},
   "outputs": [],
   "source": []
  },
  {
   "cell_type": "code",
   "execution_count": 105,
   "metadata": {},
   "outputs": [
    {
     "name": "stdout",
     "output_type": "stream",
     "text": [
      "Hash_160: 7029fd1fedb6aebca27172721c45a1588b70d2e5\n"
     ]
    }
   ],
   "source": [
    "print('Hash_160:', hashing(public_key2.hex()))"
   ]
  },
  {
   "cell_type": "code",
   "execution_count": 108,
   "metadata": {},
   "outputs": [
    {
     "name": "stdout",
     "output_type": "stream",
     "text": [
      "Enter Previous user transaction, for example, 0454bef0e9a178b8f31667dc1cb6ba0fb708d4b745d19a8e3ef6de7b52b6108b: ce137210140c2cc5a5fa040be70a51e3cf98a6e5ab17cb2a3244bb01cb429f77\n",
      "Enter previous output (here <= 15), for example, 1: 1\n",
      "Enter previous PKH, for example, 76a9145e4f04c3ee1941d665eb1312280ca3a0bbbfd3ba: 7029fd1fedb6aebca27172721c45a1588b70d2e5\n",
      "Enter Receiver's Address 1, for example, mp7cUPuKFeR3tm7hMF6Y9PZX89iyHMK67E: mqaf7bhnZMeTkmy2s2FsDSwmL9WNXTdf3R\n",
      "Enter Value in BTC (0.0) to send mqaf7bhnZMeTkmy2s2FsDSwmL9WNXTdf3R, for example, 0.009:0.00001\n",
      "Enter Data to send, for exampe, 'Hello': Nasykhova Anastasia\n",
      "Raw transaction:  0100000001779f42cb01bb44322acb17abe5a698cfe3510ae70b04faa5c52c0c14107213ce010000001976a9147029fd1fedb6aebca27172721c45a1588b70d2e588acffffffff02e8030000000000001976a9146e6494907268b2df0ad95095fc69b36187022fa688ac00000000000000000156a0134e6173796b686f766120416e617374617369610000000001000000\n",
      "Enter Private Key, for example, fbed793f3757d1fddf7d675ed64fa329b28943745b166cc94b30e46c09f778fc: e777808d97db3d835b5ada8b9e9a0661dda6e96d0fdb64f02a8e9642603ddc7c\n",
      "\n",
      "\n",
      "Digital Signature:  304402202db0cdb85a6626c9a6cfe998ad1bc691facccb36b9737990f336f1d7800bec6a022035639343168ea927de0a7d2d8f37b93d734aae02e47c49740a936ec04de058a4\n",
      "Enter Publickey (Compressed or Uncompressed), for example, 0409aa99ce4e7f6b23faf283b5eaab2f6233ac28cbb34cc083957441c5c760fc7b5da64c0975b9f6f8b14f52e1eee5be5750b5ce226b6690bde6438e51211f9ff2: 04b44be260b27457cd7152c3b13c41046a7af5a21f3c9d99082a7db88a4173410f39990b21b1f905590d5b56a97db0305b0c324372015497b04649ba7439f9ea92\n",
      "\n",
      "SigScript(hex):  8a47304402202db0cdb85a6626c9a6cfe998ad1bc691facccb36b9737990f336f1d7800bec6a022035639343168ea927de0a7d2d8f37b93d734aae02e47c49740a936ec04de058a4014104b44be260b27457cd7152c3b13c41046a7af5a21f3c9d99082a7db88a4173410f39990b21b1f905590d5b56a97db0305b0c324372015497b04649ba7439f9ea92 \n",
      "\n",
      "\n",
      "\n",
      "Transaction to broadcast:  0100000001779f42cb01bb44322acb17abe5a698cfe3510ae70b04faa5c52c0c14107213ce010000008a47304402202db0cdb85a6626c9a6cfe998ad1bc691facccb36b9737990f336f1d7800bec6a022035639343168ea927de0a7d2d8f37b93d734aae02e47c49740a936ec04de058a4014104b44be260b27457cd7152c3b13c41046a7af5a21f3c9d99082a7db88a4173410f39990b21b1f905590d5b56a97db0305b0c324372015497b04649ba7439f9ea92ffffffff02e8030000000000001976a9146e6494907268b2df0ad95095fc69b36187022fa688ac00000000000000000156a0134e6173796b686f766120416e6173746173696100000000\n"
     ]
    }
   ],
   "source": [
    "#User input:\n",
    "version_number = '01000000'\n",
    "number_inputs = '01'\n",
    "previous_transaction = input(\"Enter Previous user transaction, for example, 0454bef0e9a178b8f31667dc1cb6ba0fb708d4b745d19a8e3ef6de7b52b6108b: \")\n",
    "previous_transaction = reverse(previous_transaction)\n",
    "output_script = '0' + input(\"Enter previous output (here <= 15), for example, 1: \") + '000000'\n",
    "script = '1976a914' + input(\"Enter previous PKH, for example, 76a9145e4f04c3ee1941d665eb1312280ca3a0bbbfd3ba: \") + '88ac'\n",
    "sequence = 'ffffffff'\n",
    "tx_ip = version_number + number_inputs + previous_transaction + output_script + script + sequence\n",
    "\n",
    "\n",
    "#User_output:\n",
    "Outputs = '02'\n",
    "out_tx = Outputs + tx_outputs() + op_return() + '0'*8 + '01000000'\n",
    "\n",
    "#Final Transaction:\n",
    "raw_transaction = tx_ip + out_tx\n",
    "print('''Raw transaction: ''', raw_transaction)\n",
    "\n",
    "#DIGITAL SIGNATURE\n",
    "unsigned = raw_transaction\n",
    "\n",
    "temp_bin = binascii.unhexlify(unsigned)\n",
    "temp_hash = hashlib.sha256(temp_bin).digest()\n",
    "hash2 = hashlib.sha256(temp_hash).hexdigest()\n",
    "tx_hash = hashlib.sha256(temp_hash).digest()\n",
    "\n",
    "private_key = input(\"Enter Private Key, for example, fbed793f3757d1fddf7d675ed64fa329b28943745b166cc94b30e46c09f778fc: \")\n",
    "signingkey = ecdsa.SigningKey.from_string(bytes.fromhex(private_key), curve=ecdsa.SECP256k1)\n",
    "SIG = signingkey.sign_digest(tx_hash, sigencode=ecdsa.util.sigencode_der_canonize)\n",
    "\n",
    "print(\"\\n\\nDigital Signature: \", str(binascii.hexlify(SIG),'ascii'))\n",
    "\n",
    "#Generating_SigScript:\n",
    "DER_input =  str(binascii.hexlify(SIG),'ascii')\n",
    "header = DER_input[0:2]\n",
    "Sig_Length = DER_input[2:4]\n",
    "r_integer = DER_input[4:6]\n",
    "r_length = DER_input[6:8]\n",
    "r = DER_input[8:8 + 2 * int(r_length,16)]\n",
    "s_integer = DER_input[8 + 2 * int(r_length,16): 10 + 2 * int(r_length,16)]\n",
    "s_length = DER_input[10 + 2 * int(r_length,16): 12 + 2 * int(r_length,16)]\n",
    "s = DER_input[12 + 2 * int(r_length,16):]\n",
    "\n",
    "pushdata_opcode = pushdata(r_length, s_length)\n",
    "sighash_code = '01'\n",
    "\n",
    "publickey = input(\"Enter Publickey (Compressed or Uncompressed), for example, 0409aa99ce4e7f6b23faf283b5eaab2f6233ac28cbb34cc083957441c5c760fc7b5da64c0975b9f6f8b14f52e1eee5be5750b5ce226b6690bde6438e51211f9ff2: \")\n",
    "pubkey_pushdata_opcode = pubkey_opcode(publickey)\n",
    "\n",
    "final_SigScript = pushdata_opcode + header + Sig_Length + r_integer + r_length + r + s_integer + s_length + s + sighash_code + pubkey_pushdata_opcode + publickey\n",
    "SigScript = pubkey_opcode(final_SigScript) + final_SigScript\n",
    "print(\"\\nSigScript(hex): \",SigScript,\"\\n\\n\\n\")\n",
    "\n",
    "#Broadcasting_Transaction:\n",
    "broadcasting_tx = version_number + number_inputs + previous_transaction + output_script + SigScript + sequence + out_tx [:-8]\n",
    "print('''Transaction to broadcast: ''', broadcasting_tx)"
   ]
  },
  {
   "cell_type": "markdown",
   "metadata": {},
   "source": [
    "!!!\n",
    "\n",
    "The message with the full name and surname (Nasykhova Anastasia) is too long\n",
    "\n",
    "An error occurs when trying to broadcast\n",
    "\n",
    "I had to shorten the message (entered only the last name: Nasykhova)"
   ]
  },
  {
   "cell_type": "code",
   "execution_count": 110,
   "metadata": {},
   "outputs": [
    {
     "name": "stdout",
     "output_type": "stream",
     "text": [
      "Enter Previous user transaction, for example, 0454bef0e9a178b8f31667dc1cb6ba0fb708d4b745d19a8e3ef6de7b52b6108b: ce137210140c2cc5a5fa040be70a51e3cf98a6e5ab17cb2a3244bb01cb429f77\n",
      "Enter previous output (here <= 15), for example, 1: 1\n",
      "Enter previous PKH, for example, 76a9145e4f04c3ee1941d665eb1312280ca3a0bbbfd3ba: 7029fd1fedb6aebca27172721c45a1588b70d2e5\n",
      "Enter Receiver's Address 1, for example, mp7cUPuKFeR3tm7hMF6Y9PZX89iyHMK67E: mqaf7bhnZMeTkmy2s2FsDSwmL9WNXTdf3R\n",
      "Enter Value in BTC (0.0) to send mqaf7bhnZMeTkmy2s2FsDSwmL9WNXTdf3R, for example, 0.009:0.0000001\n",
      "Enter Data to send, for exampe, 'Hello': Nasykhova\n",
      "Raw transaction:  0100000001779f42cb01bb44322acb17abe5a698cfe3510ae70b04faa5c52c0c14107213ce010000001976a9147029fd1fedb6aebca27172721c45a1588b70d2e588acffffffff020a000000000000001976a9146e6494907268b2df0ad95095fc69b36187022fa688ac00000000000000000b6a094e6173796b686f76610000000001000000\n",
      "Enter Private Key, for example, fbed793f3757d1fddf7d675ed64fa329b28943745b166cc94b30e46c09f778fc: e777808d97db3d835b5ada8b9e9a0661dda6e96d0fdb64f02a8e9642603ddc7c\n",
      "\n",
      "\n",
      "Digital Signature:  3045022100c81af22daaeb67b4cf6f0784d4b1a34ad26d9f58e1d8993c1aaed73714d3f28402201c20d4c75c2537d0d9be0748f43e5590c3a1f4f36bef7c5c16e3fa256db0060c\n",
      "Enter Publickey (Compressed or Uncompressed), for example, 0409aa99ce4e7f6b23faf283b5eaab2f6233ac28cbb34cc083957441c5c760fc7b5da64c0975b9f6f8b14f52e1eee5be5750b5ce226b6690bde6438e51211f9ff2: 04b44be260b27457cd7152c3b13c41046a7af5a21f3c9d99082a7db88a4173410f39990b21b1f905590d5b56a97db0305b0c324372015497b04649ba7439f9ea92\n",
      "\n",
      "SigScript(hex):  8b483045022100c81af22daaeb67b4cf6f0784d4b1a34ad26d9f58e1d8993c1aaed73714d3f28402201c20d4c75c2537d0d9be0748f43e5590c3a1f4f36bef7c5c16e3fa256db0060c014104b44be260b27457cd7152c3b13c41046a7af5a21f3c9d99082a7db88a4173410f39990b21b1f905590d5b56a97db0305b0c324372015497b04649ba7439f9ea92 \n",
      "\n",
      "\n",
      "\n",
      "Transaction to broadcast:  0100000001779f42cb01bb44322acb17abe5a698cfe3510ae70b04faa5c52c0c14107213ce010000008b483045022100c81af22daaeb67b4cf6f0784d4b1a34ad26d9f58e1d8993c1aaed73714d3f28402201c20d4c75c2537d0d9be0748f43e5590c3a1f4f36bef7c5c16e3fa256db0060c014104b44be260b27457cd7152c3b13c41046a7af5a21f3c9d99082a7db88a4173410f39990b21b1f905590d5b56a97db0305b0c324372015497b04649ba7439f9ea92ffffffff020a000000000000001976a9146e6494907268b2df0ad95095fc69b36187022fa688ac00000000000000000b6a094e6173796b686f766100000000\n"
     ]
    }
   ],
   "source": [
    "#User input:\n",
    "version_number = '01000000'\n",
    "number_inputs = '01'\n",
    "previous_transaction = input(\"Enter Previous user transaction, for example, 0454bef0e9a178b8f31667dc1cb6ba0fb708d4b745d19a8e3ef6de7b52b6108b: \")\n",
    "previous_transaction = reverse(previous_transaction)\n",
    "output_script = '0' + input(\"Enter previous output (here <= 15), for example, 1: \") + '000000'\n",
    "script = '1976a914' + input(\"Enter previous PKH, for example, 76a9145e4f04c3ee1941d665eb1312280ca3a0bbbfd3ba: \") + '88ac'\n",
    "sequence = 'ffffffff'\n",
    "tx_ip = version_number + number_inputs + previous_transaction + output_script + script + sequence\n",
    "\n",
    "\n",
    "#User_output:\n",
    "Outputs = '02'\n",
    "out_tx = Outputs + tx_outputs() + op_return() + '0'*8 + '01000000'\n",
    "\n",
    "#Final Transaction:\n",
    "raw_transaction = tx_ip + out_tx\n",
    "print('''Raw transaction: ''', raw_transaction)\n",
    "\n",
    "#DIGITAL SIGNATURE\n",
    "unsigned = raw_transaction\n",
    "\n",
    "temp_bin = binascii.unhexlify(unsigned)\n",
    "temp_hash = hashlib.sha256(temp_bin).digest()\n",
    "hash2 = hashlib.sha256(temp_hash).hexdigest()\n",
    "tx_hash = hashlib.sha256(temp_hash).digest()\n",
    "\n",
    "private_key = input(\"Enter Private Key, for example, fbed793f3757d1fddf7d675ed64fa329b28943745b166cc94b30e46c09f778fc: \")\n",
    "signingkey = ecdsa.SigningKey.from_string(bytes.fromhex(private_key), curve=ecdsa.SECP256k1)\n",
    "SIG = signingkey.sign_digest(tx_hash, sigencode=ecdsa.util.sigencode_der_canonize)\n",
    "\n",
    "print(\"\\n\\nDigital Signature: \", str(binascii.hexlify(SIG),'ascii'))\n",
    "\n",
    "#Generating_SigScript:\n",
    "DER_input =  str(binascii.hexlify(SIG),'ascii')\n",
    "header = DER_input[0:2]\n",
    "Sig_Length = DER_input[2:4]\n",
    "r_integer = DER_input[4:6]\n",
    "r_length = DER_input[6:8]\n",
    "r = DER_input[8:8 + 2 * int(r_length,16)]\n",
    "s_integer = DER_input[8 + 2 * int(r_length,16): 10 + 2 * int(r_length,16)]\n",
    "s_length = DER_input[10 + 2 * int(r_length,16): 12 + 2 * int(r_length,16)]\n",
    "s = DER_input[12 + 2 * int(r_length,16):]\n",
    "\n",
    "pushdata_opcode = pushdata(r_length, s_length)\n",
    "sighash_code = '01'\n",
    "\n",
    "publickey = input(\"Enter Publickey (Compressed or Uncompressed), for example, 0409aa99ce4e7f6b23faf283b5eaab2f6233ac28cbb34cc083957441c5c760fc7b5da64c0975b9f6f8b14f52e1eee5be5750b5ce226b6690bde6438e51211f9ff2: \")\n",
    "pubkey_pushdata_opcode = pubkey_opcode(publickey)\n",
    "\n",
    "final_SigScript = pushdata_opcode + header + Sig_Length + r_integer + r_length + r + s_integer + s_length + s + sighash_code + pubkey_pushdata_opcode + publickey\n",
    "SigScript = pubkey_opcode(final_SigScript) + final_SigScript\n",
    "print(\"\\nSigScript(hex): \",SigScript,\"\\n\\n\\n\")\n",
    "\n",
    "#Broadcasting_Transaction:\n",
    "broadcasting_tx = version_number + number_inputs + previous_transaction + output_script + SigScript + sequence + out_tx [:-8]\n",
    "print('''Transaction to broadcast: ''', broadcasting_tx)"
   ]
  },
  {
   "cell_type": "markdown",
   "metadata": {},
   "source": [
    "TX: 7ea57bf8939d97c1ee5d6872537b832d2161bcb7692e710ac242ee025206c442"
   ]
  },
  {
   "cell_type": "markdown",
   "metadata": {},
   "source": [
    "https://live.blockcypher.com/btc-testnet/tx/7ea57bf8939d97c1ee5d6872537b832d2161bcb7692e710ac242ee025206c442/"
   ]
  },
  {
   "cell_type": "markdown",
   "metadata": {
    "id": "31A-dHry-Gi1"
   },
   "source": [
    "### Task 5 (3 points)"
   ]
  },
  {
   "cell_type": "markdown",
   "metadata": {},
   "source": [
    "From Step 3.2, Make a final transaction to Address n2jmkNzxLJM51AvH3WNyYgWpsrjvR5HnF8"
   ]
  },
  {
   "cell_type": "code",
   "execution_count": 112,
   "metadata": {},
   "outputs": [],
   "source": [
    "class variableInteger:\n",
    "    def reverse_string_in_pair(a_str_ip):\n",
    "        i = 0\n",
    "        rev_a = []\n",
    "        while i != len(a_str_ip):\n",
    "            #print(a[i] + a[i+1])\n",
    "            temp_value = a_str_ip[i] + a_str_ip[i+1]\n",
    "            rev_a.append(temp_value)\n",
    "            i = i + 2\n",
    "        rev_a.reverse()\n",
    "        return ''.join(rev_a)\n",
    "    \n",
    "    def padding(b):\n",
    "        if int(len(b) % 2) == 0:\n",
    "            return b\n",
    "        else:\n",
    "            return '0' + b\n",
    "    \n",
    "    def variable_integer(a):\n",
    "        if type(a) == int:\n",
    "            temp = a\n",
    "        else:\n",
    "            temp = int(len(a)/2)\n",
    "        \n",
    "        if temp <= int('0xfc',16):\n",
    "            return variableInteger.padding(hex(temp)[2:])\n",
    "        elif temp > int('0xfc',16) and temp <= int('0xffff',16):\n",
    "            return 'fd' +  variableInteger.reverse_string_in_pair(variableInteger.padding(hex(temp)[2:]))\n",
    "        elif temp > int('0xffff',16) and temp <= int('0xffffffff',16):\n",
    "            return 'fe' + variableInteger.reverse_string_in_pair(variableInteger.padding(hex(temp)[2:]))\n",
    "        elif temp > int('0xffffffff',16) and temp <= int('0xffffffffffffffff',16):\n",
    "            return 'ff' + variableInteger.reverse_string_in_pair(variableInteger.padding(hex(temp)[2:]))\n",
    "        \n",
    "def digital_signature(raw_tx):\n",
    "    unsigned = raw_tx\n",
    "    \n",
    "    temp_bin = binascii.unhexlify(unsigned)\n",
    "    temp_hash = hashlib.sha256(temp_bin).digest()\n",
    "    tx_hash = hashlib.sha256(temp_hash).digest()\n",
    "    private_key = input(\"Enter Private Key: \")\n",
    "    signingkey = ecdsa.SigningKey.from_string(bytes.fromhex(private_key), curve=ecdsa.SECP256k1)\n",
    "    SIG = signingkey.sign_digest(tx_hash, sigencode=ecdsa.util.sigencode_der_canonize)   \n",
    "    temp_sig = str(binascii.hexlify(SIG),'ascii')\n",
    "    return temp_sig     \n",
    "\n",
    "def reverse_string_in_pair(a_str_ip):\n",
    "    i = 0\n",
    "    rev_a = []\n",
    "    while i != len(a_str_ip):\n",
    "        #print(a[i] + a[i+1])\n",
    "        temp_value = a_str_ip[i] + a_str_ip[i+1]\n",
    "        rev_a.append(temp_value)\n",
    "        i = i + 2\n",
    "    rev_a.reverse()\n",
    "    return ''.join(rev_a)\n",
    "\n",
    "def bitcoin_satoshi_rev_hex(btc):\n",
    "    temp = float(btc) * (10**8)\n",
    "    temp_1 = hex(int(temp))[2:]\n",
    "    temp_2 = reverse_string_in_pair(str(temp_1).zfill(16))\n",
    "    return temp_2\n",
    "\n",
    "def tx_inputs_tx_id():\n",
    "    previous_tx_hash = input(\"Enter Reference TxId: \")\n",
    "    previous_tx_hash_reversed = reverse_string_in_pair(previous_tx_hash)\n",
    "    previous_output_index = input(\"Enter Previous output index: \")\n",
    "    previous_output_index = reverse_string_in_pair('{:08d}'.format(int(previous_output_index)))\n",
    "    return previous_tx_hash_reversed + previous_output_index\n",
    "\n",
    "def redeem_place_holder():\n",
    "    redeemScript = input(\"Enter redeem Script: \")\n",
    "    return variableInteger.variable_integer(redeemScript) + redeemScript\n",
    "\n",
    "def tx_outputs(c):\n",
    "    receiver = input(\"Enter Receiver's Address {}: \".format(c+1))\n",
    "    if receiver[0] == 'm' or receiver[0] == 'n': \n",
    "        value = input(\"Enter Value in BTC (0.0) to send {}:\".format(receiver))\n",
    "        value_in_hex_NYB = bitcoin_satoshi_rev_hex(value)\n",
    "        receiver_address = base58.b58decode(receiver).hex()[2:-8]\n",
    "        locking_Script = '76' + 'a9' + variableInteger.variable_integer(receiver_address) + receiver_address + '88' + 'ac'\n",
    "        script_len_2 = variableInteger.variable_integer(locking_Script)\n",
    "        return value_in_hex_NYB + script_len_2 + locking_Script\n",
    "    \n",
    "    elif receiver[0] == '2':\n",
    "        value = input(\"Enter Value in BTC (0.0) to send {}:\".format(receiver))\n",
    "        value_in_hex_NYB = bitcoin_satoshi_rev_hex(value)\n",
    "        receiver_address = base58.b58decode(receiver).hex()[2:-8]\n",
    "        locking_Script = 'a9' + variableInteger.variable_integer(receiver_address) + receiver_address + '87'\n",
    "        script_len_2 = variableInteger.variable_integer(locking_Script)\n",
    "        return value_in_hex_NYB + script_len_2 + locking_Script"
   ]
  },
  {
   "cell_type": "code",
   "execution_count": 113,
   "metadata": {},
   "outputs": [
    {
     "name": "stdout",
     "output_type": "stream",
     "text": [
      "Number of Signatures Required: 2\n",
      "Enter Reference TxId: 10aca83f5341169f9ce257fbd24e9d901b959f74857e00455f9d67c83260f7b4\n",
      "Enter Previous output index: 1\n",
      "Enter redeem Script: 524104847f4086cc82a24ec3625e0d295a08aa7c25334af797a396add7c84f6440ada65247424d39cc15dbf4126c6537be7330ca28b66f7a0e1a5eb22fa9c953972a284104b44be260b27457cd7152c3b13c41046a7af5a21f3c9d99082a7db88a4173410f39990b21b1f905590d5b56a97db0305b0c324372015497b04649ba7439f9ea9252ae\n"
     ]
    }
   ],
   "source": [
    "sig_loop = input(\"Number of Signatures Required: \")\n",
    "#Making Raw_Transaction: \n",
    "#input Basic\n",
    "version = '01000000'\n",
    "\n",
    "#input_multi_Signature:\n",
    "input_ms = '01' + tx_inputs_tx_id()\n",
    "redeem_Script = redeem_place_holder()\n",
    "tx_input_value = input_ms + redeem_Script + 'f'*8"
   ]
  },
  {
   "cell_type": "code",
   "execution_count": 114,
   "metadata": {},
   "outputs": [
    {
     "name": "stdout",
     "output_type": "stream",
     "text": [
      "Enter number of outputs: 1\n",
      "Enter Receiver's Address 1: n2jmkNzxLJM51AvH3WNyYgWpsrjvR5HnF8\n",
      "Enter Value in BTC (0.0) to send n2jmkNzxLJM51AvH3WNyYgWpsrjvR5HnF8:0.000001\n"
     ]
    }
   ],
   "source": [
    "#output\n",
    "utxo_output = input(\"Enter number of outputs: \")\n",
    "tx_output = ''\n",
    "for i in range(0, int(utxo_output)):\n",
    "        tx_output = tx_outputs(i) + tx_output\n",
    "next_output_data =  variableInteger.variable_integer(int(utxo_output)) + tx_output\n",
    "\n",
    "locktime = '00000000'\n",
    "SigHashCode = '01000000'"
   ]
  },
  {
   "cell_type": "code",
   "execution_count": 115,
   "metadata": {},
   "outputs": [
    {
     "name": "stdout",
     "output_type": "stream",
     "text": [
      "Raw Transaction to Sign:\n",
      "0100000001b4f76032c8679d5f45007e85749f951b909d4ed2fb57e29c9f1641533fa8ac100100000087524104847f4086cc82a24ec3625e0d295a08aa7c25334af797a396add7c84f6440ada65247424d39cc15dbf4126c6537be7330ca28b66f7a0e1a5eb22fa9c953972a284104b44be260b27457cd7152c3b13c41046a7af5a21f3c9d99082a7db88a4173410f39990b21b1f905590d5b56a97db0305b0c324372015497b04649ba7439f9ea9252aeffffffff0164000000000000001976a914e8c73eda67ba6bc8b2d52b1d60da9aad9457f6f588ac0000000001000000\n"
     ]
    }
   ],
   "source": [
    "tx_to_sign = version + tx_input_value + next_output_data + locktime + SigHashCode\n",
    "print(\"Raw Transaction to Sign:\")\n",
    "print(tx_to_sign)"
   ]
  },
  {
   "cell_type": "code",
   "execution_count": 116,
   "metadata": {},
   "outputs": [
    {
     "name": "stdout",
     "output_type": "stream",
     "text": [
      "Enter Private Key: e9e0825fa7d83dbc2ffd32166c2bf2cb7e77b38d8eab269cc51958e8b91c221e\n",
      "1 4830450221008b0b396653e1f686a5cd8456f7a1267ea29c2895181c6bc27bdebcb743a5f35102205e39ad4d02fe77abdef9aa30887938124e551c44f39e44e6c08574b53dda6d0501\n",
      "Enter Private Key: e777808d97db3d835b5ada8b9e9a0661dda6e96d0fdb64f02a8e9642603ddc7c\n",
      "2 4830450221008b0b396653e1f686a5cd8456f7a1267ea29c2895181c6bc27bdebcb743a5f35102205e39ad4d02fe77abdef9aa30887938124e551c44f39e44e6c08574b53dda6d050148304502210096973334df0c3796809c5b12bdf584afcec5b9bdcd302a13240a177e1c8985bd022058a14676a6c59d302332e1ff5cebb784ce1d5565f561782f6002440e1dbfe2ad01\n"
     ]
    }
   ],
   "source": [
    "signatures = ''\n",
    "\n",
    "for i in range(0,int(sig_loop)):\n",
    "    signature_temp = digital_signature(tx_to_sign) + '01'\n",
    "    signature_temp_2 = variableInteger.variable_integer(signature_temp) + signature_temp\n",
    "    signatures = signatures + signature_temp_2\n",
    "    print(i+1,signatures)"
   ]
  },
  {
   "cell_type": "code",
   "execution_count": 117,
   "metadata": {},
   "outputs": [
    {
     "name": "stdout",
     "output_type": "stream",
     "text": [
      "SigScript: fd1c01004830450221008b0b396653e1f686a5cd8456f7a1267ea29c2895181c6bc27bdebcb743a5f35102205e39ad4d02fe77abdef9aa30887938124e551c44f39e44e6c08574b53dda6d050148304502210096973334df0c3796809c5b12bdf584afcec5b9bdcd302a13240a177e1c8985bd022058a14676a6c59d302332e1ff5cebb784ce1d5565f561782f6002440e1dbfe2ad014c87524104847f4086cc82a24ec3625e0d295a08aa7c25334af797a396add7c84f6440ada65247424d39cc15dbf4126c6537be7330ca28b66f7a0e1a5eb22fa9c953972a284104b44be260b27457cd7152c3b13c41046a7af5a21f3c9d99082a7db88a4173410f39990b21b1f905590d5b56a97db0305b0c324372015497b04649ba7439f9ea9252ae\n"
     ]
    }
   ],
   "source": [
    "SigScript_places = '00' + signatures + '4c' + redeem_Script \n",
    "SigScript =  variableInteger.variable_integer(SigScript_places) + SigScript_places\n",
    "print(\"SigScript:\",SigScript)"
   ]
  },
  {
   "cell_type": "code",
   "execution_count": 118,
   "metadata": {},
   "outputs": [
    {
     "name": "stdout",
     "output_type": "stream",
     "text": [
      "0100000001b4f76032c8679d5f45007e85749f951b909d4ed2fb57e29c9f1641533fa8ac1001000000fd1c01004830450221008b0b396653e1f686a5cd8456f7a1267ea29c2895181c6bc27bdebcb743a5f35102205e39ad4d02fe77abdef9aa30887938124e551c44f39e44e6c08574b53dda6d050148304502210096973334df0c3796809c5b12bdf584afcec5b9bdcd302a13240a177e1c8985bd022058a14676a6c59d302332e1ff5cebb784ce1d5565f561782f6002440e1dbfe2ad014c87524104847f4086cc82a24ec3625e0d295a08aa7c25334af797a396add7c84f6440ada65247424d39cc15dbf4126c6537be7330ca28b66f7a0e1a5eb22fa9c953972a284104b44be260b27457cd7152c3b13c41046a7af5a21f3c9d99082a7db88a4173410f39990b21b1f905590d5b56a97db0305b0c324372015497b04649ba7439f9ea9252aeffffffff0164000000000000001976a914e8c73eda67ba6bc8b2d52b1d60da9aad9457f6f588ac00000000\n"
     ]
    }
   ],
   "source": [
    "Broadcasting_transaction = version + input_ms + SigScript + 'f'*8 + next_output_data + locktime\n",
    "print(Broadcasting_transaction)"
   ]
  },
  {
   "cell_type": "code",
   "execution_count": null,
   "metadata": {},
   "outputs": [],
   "source": []
  },
  {
   "cell_type": "markdown",
   "metadata": {},
   "source": [
    "TX: 90cd51b2f60dab9e5e1a2c517a49a553cb95a741e362f076f0de818185a299ce"
   ]
  },
  {
   "cell_type": "markdown",
   "metadata": {},
   "source": [
    "https://live.blockcypher.com/btc-testnet/tx/90cd51b2f60dab9e5e1a2c517a49a553cb95a741e362f076f0de818185a299ce/"
   ]
  },
  {
   "cell_type": "code",
   "execution_count": null,
   "metadata": {},
   "outputs": [],
   "source": []
  }
 ],
 "metadata": {
  "colab": {
   "provenance": []
  },
  "kernelspec": {
   "display_name": "Python 3 (ipykernel)",
   "language": "python",
   "name": "python3"
  },
  "language_info": {
   "codemirror_mode": {
    "name": "ipython",
    "version": 3
   },
   "file_extension": ".py",
   "mimetype": "text/x-python",
   "name": "python",
   "nbconvert_exporter": "python",
   "pygments_lexer": "ipython3",
   "version": "3.10.5"
  }
 },
 "nbformat": 4,
 "nbformat_minor": 1
}
